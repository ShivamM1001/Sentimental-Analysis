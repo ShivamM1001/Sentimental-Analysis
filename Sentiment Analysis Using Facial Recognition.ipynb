{
 "cells": [
  {
   "cell_type": "code",
   "execution_count": 37,
   "metadata": {},
   "outputs": [],
   "source": [
    "import sys\n",
    "import os\n",
    "import numpy as np\n",
    "import pandas as pd\n"
   ]
  },
  {
   "cell_type": "code",
   "execution_count": 2,
   "metadata": {},
   "outputs": [
    {
     "name": "stdout",
     "output_type": "stream",
     "text": [
      "Collecting keras\n",
      "  Downloading https://files.pythonhosted.org/packages/f8/ba/2d058dcf1b85b9c212cc58264c98a4a7dd92c989b798823cc5690d062bb2/Keras-2.2.5-py2.py3-none-any.whl (336kB)\n",
      "Requirement already satisfied: pyyaml in c:\\users\\shibu\\anaconda3\\envs\\tf\\lib\\site-packages (from keras) (5.1.1)\n",
      "Requirement already satisfied: h5py in c:\\users\\shibu\\anaconda3\\envs\\tf\\lib\\site-packages (from keras) (2.9.0)\n",
      "Requirement already satisfied: scipy>=0.14 in c:\\users\\shibu\\anaconda3\\envs\\tf\\lib\\site-packages (from keras) (1.2.1)\n",
      "Requirement already satisfied: six>=1.9.0 in c:\\users\\shibu\\anaconda3\\envs\\tf\\lib\\site-packages (from keras) (1.12.0)\n",
      "Requirement already satisfied: numpy>=1.9.1 in c:\\users\\shibu\\anaconda3\\envs\\tf\\lib\\site-packages (from keras) (1.16.4)\n",
      "Requirement already satisfied: keras-applications>=1.0.8 in c:\\users\\shibu\\anaconda3\\envs\\tf\\lib\\site-packages (from keras) (1.0.8)\n",
      "Requirement already satisfied: keras-preprocessing>=1.1.0 in c:\\users\\shibu\\anaconda3\\envs\\tf\\lib\\site-packages (from keras) (1.1.0)\n",
      "Installing collected packages: keras\n",
      "Successfully installed keras-2.2.5\n",
      "Note: you may need to restart the kernel to use updated packages.\n"
     ]
    }
   ],
   "source": [
    "pip install keras"
   ]
  },
  {
   "cell_type": "code",
   "execution_count": 3,
   "metadata": {},
   "outputs": [
    {
     "name": "stderr",
     "output_type": "stream",
     "text": [
      "Using TensorFlow backend.\n"
     ]
    }
   ],
   "source": [
    "import keras"
   ]
  },
  {
   "cell_type": "code",
   "execution_count": 38,
   "metadata": {},
   "outputs": [],
   "source": [
    "from keras.models import Sequential"
   ]
  },
  {
   "cell_type": "code",
   "execution_count": 39,
   "metadata": {},
   "outputs": [],
   "source": [
    "\n",
    "from keras.layers import Dense, Dropout, Activation, Flatten\n",
    "from keras.layers import Conv2D, MaxPooling2D, BatchNormalization\n",
    "from keras.losses import categorical_crossentropy\n",
    "from keras.optimizers import Adam\n",
    "from keras.regularizers import l2\n",
    "from keras .utils import np_utils"
   ]
  },
  {
   "cell_type": "code",
   "execution_count": 40,
   "metadata": {},
   "outputs": [
    {
     "data": {
      "text/html": [
       "<div>\n",
       "<style scoped>\n",
       "    .dataframe tbody tr th:only-of-type {\n",
       "        vertical-align: middle;\n",
       "    }\n",
       "\n",
       "    .dataframe tbody tr th {\n",
       "        vertical-align: top;\n",
       "    }\n",
       "\n",
       "    .dataframe thead th {\n",
       "        text-align: right;\n",
       "    }\n",
       "</style>\n",
       "<table border=\"1\" class=\"dataframe\">\n",
       "  <thead>\n",
       "    <tr style=\"text-align: right;\">\n",
       "      <th></th>\n",
       "      <th>emotion</th>\n",
       "      <th>pixels</th>\n",
       "      <th>Usage</th>\n",
       "    </tr>\n",
       "  </thead>\n",
       "  <tbody>\n",
       "    <tr>\n",
       "      <td>0</td>\n",
       "      <td>0</td>\n",
       "      <td>70 80 82 72 58 58 60 63 54 58 60 48 89 115 121...</td>\n",
       "      <td>Training</td>\n",
       "    </tr>\n",
       "    <tr>\n",
       "      <td>1</td>\n",
       "      <td>0</td>\n",
       "      <td>151 150 147 155 148 133 111 140 170 174 182 15...</td>\n",
       "      <td>Training</td>\n",
       "    </tr>\n",
       "    <tr>\n",
       "      <td>2</td>\n",
       "      <td>2</td>\n",
       "      <td>231 212 156 164 174 138 161 173 182 200 106 38...</td>\n",
       "      <td>Training</td>\n",
       "    </tr>\n",
       "    <tr>\n",
       "      <td>3</td>\n",
       "      <td>4</td>\n",
       "      <td>24 32 36 30 32 23 19 20 30 41 21 22 32 34 21 1...</td>\n",
       "      <td>Training</td>\n",
       "    </tr>\n",
       "    <tr>\n",
       "      <td>4</td>\n",
       "      <td>6</td>\n",
       "      <td>4 0 0 0 0 0 0 0 0 0 0 0 3 15 23 28 48 50 58 84...</td>\n",
       "      <td>Training</td>\n",
       "    </tr>\n",
       "  </tbody>\n",
       "</table>\n",
       "</div>"
      ],
      "text/plain": [
       "   emotion                                             pixels     Usage\n",
       "0        0  70 80 82 72 58 58 60 63 54 58 60 48 89 115 121...  Training\n",
       "1        0  151 150 147 155 148 133 111 140 170 174 182 15...  Training\n",
       "2        2  231 212 156 164 174 138 161 173 182 200 106 38...  Training\n",
       "3        4  24 32 36 30 32 23 19 20 30 41 21 22 32 34 21 1...  Training\n",
       "4        6  4 0 0 0 0 0 0 0 0 0 0 0 3 15 23 28 48 50 58 84...  Training"
      ]
     },
     "execution_count": 40,
     "metadata": {},
     "output_type": "execute_result"
    }
   ],
   "source": [
    "data = pd.read_csv(\"fer2013.csv\")\n",
    "data.head()"
   ]
  },
  {
   "cell_type": "code",
   "execution_count": 41,
   "metadata": {},
   "outputs": [
    {
     "name": "stdout",
     "output_type": "stream",
     "text": [
      "<class 'pandas.core.frame.DataFrame'>\n",
      "RangeIndex: 35887 entries, 0 to 35886\n",
      "Data columns (total 3 columns):\n",
      "emotion    35887 non-null int64\n",
      "pixels     35887 non-null object\n",
      "Usage      35887 non-null object\n",
      "dtypes: int64(1), object(2)\n",
      "memory usage: 841.2+ KB\n",
      "None\n"
     ]
    }
   ],
   "source": [
    "print(data.info())"
   ]
  },
  {
   "cell_type": "code",
   "execution_count": 42,
   "metadata": {},
   "outputs": [
    {
     "name": "stdout",
     "output_type": "stream",
     "text": [
      "Training       28709\n",
      "PublicTest      3589\n",
      "PrivateTest     3589\n",
      "Name: Usage, dtype: int64\n"
     ]
    }
   ],
   "source": [
    "print(data['Usage'].value_counts())"
   ]
  },
  {
   "cell_type": "code",
   "execution_count": 43,
   "metadata": {},
   "outputs": [
    {
     "data": {
      "text/plain": [
       "0        0\n",
       "1        0\n",
       "2        2\n",
       "3        4\n",
       "4        6\n",
       "        ..\n",
       "35882    6\n",
       "35883    3\n",
       "35884    0\n",
       "35885    3\n",
       "35886    2\n",
       "Name: emotion, Length: 35887, dtype: int64"
      ]
     },
     "execution_count": 43,
     "metadata": {},
     "output_type": "execute_result"
    }
   ],
   "source": [
    "data.emotion.map({0:0,1:0,2:2,3:3,4:4,5:5,6:6},na_action=\"ignore\")"
   ]
  },
  {
   "cell_type": "code",
   "execution_count": 44,
   "metadata": {},
   "outputs": [],
   "source": [
    "x_train, y_train, x_test, y_test = [],[],[],[]"
   ]
  },
  {
   "cell_type": "code",
   "execution_count": 45,
   "metadata": {},
   "outputs": [],
   "source": [
    "for index, row in data.iterrows():\n",
    "    val = row[\"pixels\"].split(\" \")\n",
    "    try:\n",
    "        if 'Training' in row[\"Usage\"]:\n",
    "            x_train.append(np.array(val, 'float32'))\n",
    "            y_train.append(row[\"emotion\"])\n",
    "        elif 'PublicTest' in row[\"Usage\"]:\n",
    "            x_test.append(np.array(val, 'float32'))\n",
    "            y_test.append(row[\"emotion\"])\n",
    "    except:\n",
    "        print(f\"error occured at index:{index} and row:{row}\")"
   ]
  },
  {
   "cell_type": "code",
   "execution_count": 46,
   "metadata": {},
   "outputs": [
    {
     "name": "stdout",
     "output_type": "stream",
     "text": [
      "x_train sample data:[array([ 70.,  80.,  82., ..., 106., 109.,  82.], dtype=float32), array([151., 150., 147., ..., 193., 183., 184.], dtype=float32)]\n",
      "y_train sample data:[0, 0]\n",
      "x_test sample data:[array([254., 254., 254., ...,  42., 129., 180.], dtype=float32), array([156., 184., 198., ..., 172., 167., 161.], dtype=float32)]\n",
      "y_test sample data:[0, 1]\n"
     ]
    }
   ],
   "source": [
    "print(f\"x_train sample data:{x_train[0:2]}\")\n",
    "print(f\"y_train sample data:{y_train[0:2]}\")\n",
    "print(f\"x_test sample data:{x_test[0:2]}\")\n",
    "print(f\"y_test sample data:{y_test[0:2]}\")\n"
   ]
  },
  {
   "cell_type": "code",
   "execution_count": 47,
   "metadata": {},
   "outputs": [],
   "source": [
    "x_train = np.array(x_train,\"float32\")\n",
    "y_train = np.array(y_train, \"float32\")\n",
    "x_test = np.array(x_test,\"float32\")\n",
    "y_test = np.array(y_test,\"float32\")"
   ]
  },
  {
   "cell_type": "code",
   "execution_count": 48,
   "metadata": {},
   "outputs": [],
   "source": [
    "# Normalizing the data between 0 and 1\n",
    "\n",
    "x_train-=np.mean(x_train,axis=0)\n",
    "x_train/=np.std(x_train,axis=0)\n",
    "\n",
    "x_test-=np.mean(x_test,axis=0)\n",
    "x_test/=np.std(x_test,axis=0)\n"
   ]
  },
  {
   "cell_type": "code",
   "execution_count": 49,
   "metadata": {},
   "outputs": [],
   "source": [
    "num_features = 64\n",
    "num_labels = 7\n",
    "batch_size = 64\n",
    "epochs = 101 \n",
    "width, height = 48, 48"
   ]
  },
  {
   "cell_type": "code",
   "execution_count": 50,
   "metadata": {},
   "outputs": [],
   "source": [
    "x_train = x_train.reshape(x_train.shape[0], width, height,1)\n",
    "x_test = x_test.reshape(x_test.shape[0],width,height,1)\n",
    "\n",
    "y_train = np_utils.to_categorical(y_train,num_classes=num_labels)\n",
    "y_test = np_utils.to_categorical(y_test,num_classes=num_labels)"
   ]
  },
  {
   "cell_type": "code",
   "execution_count": 21,
   "metadata": {},
   "outputs": [],
   "source": [
    "#desining in cnn"
   ]
  },
  {
   "cell_type": "code",
   "execution_count": 51,
   "metadata": {},
   "outputs": [],
   "source": [
    "model = Sequential()"
   ]
  },
  {
   "cell_type": "code",
   "execution_count": 52,
   "metadata": {},
   "outputs": [],
   "source": [
    "#1st layers\n",
    "\n",
    "model.add(Conv2D(num_features,kernel_size=(3,3),activation=\"relu\",input_shape=(x_train.shape[1:])))\n",
    "model.add(Conv2D(num_features,kernel_size=(3,3),activation=\"relu\"))\n",
    "model.add(MaxPooling2D(pool_size=(2,2),strides=(2,2)))\n",
    "model.add(Dropout(0.5))\n"
   ]
  },
  {
   "cell_type": "code",
   "execution_count": 53,
   "metadata": {},
   "outputs": [],
   "source": [
    "#2nd convolutional layers\n",
    "\n",
    "model.add(Conv2D(num_features,kernel_size=(3,3),activation=\"relu\"))\n",
    "model.add(Conv2D(num_features,kernel_size=(3,3),activation=\"relu\"))\n",
    "model.add(MaxPooling2D(pool_size=(2,2),strides=(2,2)))\n",
    "model.add(Dropout(0.5))"
   ]
  },
  {
   "cell_type": "code",
   "execution_count": 54,
   "metadata": {},
   "outputs": [],
   "source": [
    "#3rd convolutional layers\n",
    "model.add(Conv2D(2*num_features,kernel_size=(3,3),activation=\"relu\"))\n",
    "model.add(Conv2D(2*num_features,kernel_size=(3,3),activation=\"relu\"))\n",
    "model.add(MaxPooling2D(pool_size=(2,2),strides=(2,2)))\n"
   ]
  },
  {
   "cell_type": "code",
   "execution_count": 55,
   "metadata": {},
   "outputs": [],
   "source": [
    "model.add(Flatten())"
   ]
  },
  {
   "cell_type": "code",
   "execution_count": 56,
   "metadata": {},
   "outputs": [],
   "source": [
    "\n",
    "model.add(Dense(2*2*2*2*num_features,activation = \"relu\"))\n",
    "model.add(Dropout(0.2))\n",
    "model.add(Dense(2*2*2*2*num_features,activation = \"relu\"))\n",
    "model.add(Dropout(0.2))\n",
    "\n",
    "model.add(Dense(num_labels, activation = \"softmax\"))"
   ]
  },
  {
   "cell_type": "code",
   "execution_count": 57,
   "metadata": {},
   "outputs": [
    {
     "name": "stdout",
     "output_type": "stream",
     "text": [
      "_________________________________________________________________\n",
      "Layer (type)                 Output Shape              Param #   \n",
      "=================================================================\n",
      "conv2d_19 (Conv2D)           (None, 46, 46, 64)        640       \n",
      "_________________________________________________________________\n",
      "conv2d_20 (Conv2D)           (None, 44, 44, 64)        36928     \n",
      "_________________________________________________________________\n",
      "max_pooling2d_10 (MaxPooling (None, 22, 22, 64)        0         \n",
      "_________________________________________________________________\n",
      "dropout_9 (Dropout)          (None, 22, 22, 64)        0         \n",
      "_________________________________________________________________\n",
      "conv2d_21 (Conv2D)           (None, 20, 20, 64)        36928     \n",
      "_________________________________________________________________\n",
      "conv2d_22 (Conv2D)           (None, 18, 18, 64)        36928     \n",
      "_________________________________________________________________\n",
      "max_pooling2d_11 (MaxPooling (None, 9, 9, 64)          0         \n",
      "_________________________________________________________________\n",
      "dropout_10 (Dropout)         (None, 9, 9, 64)          0         \n",
      "_________________________________________________________________\n",
      "conv2d_23 (Conv2D)           (None, 7, 7, 128)         73856     \n",
      "_________________________________________________________________\n",
      "conv2d_24 (Conv2D)           (None, 5, 5, 128)         147584    \n",
      "_________________________________________________________________\n",
      "max_pooling2d_12 (MaxPooling (None, 2, 2, 128)         0         \n",
      "_________________________________________________________________\n",
      "flatten_4 (Flatten)          (None, 512)               0         \n",
      "_________________________________________________________________\n",
      "dense_4 (Dense)              (None, 1024)              525312    \n",
      "_________________________________________________________________\n",
      "dropout_11 (Dropout)         (None, 1024)              0         \n",
      "_________________________________________________________________\n",
      "dense_5 (Dense)              (None, 1024)              1049600   \n",
      "_________________________________________________________________\n",
      "dropout_12 (Dropout)         (None, 1024)              0         \n",
      "_________________________________________________________________\n",
      "dense_6 (Dense)              (None, 7)                 7175      \n",
      "=================================================================\n",
      "Total params: 1,914,951\n",
      "Trainable params: 1,914,951\n",
      "Non-trainable params: 0\n",
      "_________________________________________________________________\n"
     ]
    }
   ],
   "source": [
    "model.summary()"
   ]
  },
  {
   "cell_type": "code",
   "execution_count": 58,
   "metadata": {},
   "outputs": [],
   "source": [
    "model.compile(loss=categorical_crossentropy,optimizer=Adam(),metrics=['accuracy'])"
   ]
  },
  {
   "cell_type": "code",
   "execution_count": 59,
   "metadata": {},
   "outputs": [
    {
     "name": "stderr",
     "output_type": "stream",
     "text": [
      "W0912 11:14:45.070515 12276 deprecation.py:323] From C:\\Users\\Shibu\\Anaconda3\\envs\\tensorflow_gpu\\lib\\site-packages\\tensorflow\\python\\ops\\math_grad.py:1250: add_dispatch_support.<locals>.wrapper (from tensorflow.python.ops.array_ops) is deprecated and will be removed in a future version.\n",
      "Instructions for updating:\n",
      "Use tf.where in 2.0, which has the same broadcast rule as np.where\n"
     ]
    },
    {
     "name": "stdout",
     "output_type": "stream",
     "text": [
      "Train on 28709 samples, validate on 3589 samples\n",
      "Epoch 1/101\n",
      "28709/28709 [==============================] - 64s 2ms/step - loss: 1.7266 - acc: 0.2941 - val_loss: 1.5581 - val_acc: 0.3714\n",
      "Epoch 2/101\n",
      "28709/28709 [==============================] - 49s 2ms/step - loss: 1.5146 - acc: 0.4022 - val_loss: 1.3958 - val_acc: 0.4567\n",
      "Epoch 3/101\n",
      "28709/28709 [==============================] - 50s 2ms/step - loss: 1.4082 - acc: 0.4520 - val_loss: 1.3323 - val_acc: 0.4898\n",
      "Epoch 4/101\n",
      "28709/28709 [==============================] - 50s 2ms/step - loss: 1.3443 - acc: 0.4796 - val_loss: 1.2709 - val_acc: 0.5116\n",
      "Epoch 5/101\n",
      "28709/28709 [==============================] - 50s 2ms/step - loss: 1.2965 - acc: 0.5023 - val_loss: 1.2780 - val_acc: 0.5160\n",
      "Epoch 6/101\n",
      "28709/28709 [==============================] - 50s 2ms/step - loss: 1.2658 - acc: 0.5150 - val_loss: 1.2266 - val_acc: 0.5366\n",
      "Epoch 7/101\n",
      "28709/28709 [==============================] - 50s 2ms/step - loss: 1.2332 - acc: 0.5252 - val_loss: 1.2002 - val_acc: 0.5405\n",
      "Epoch 8/101\n",
      "28709/28709 [==============================] - 51s 2ms/step - loss: 1.2050 - acc: 0.5399 - val_loss: 1.2197 - val_acc: 0.5322\n",
      "Epoch 9/101\n",
      "28709/28709 [==============================] - 51s 2ms/step - loss: 1.1872 - acc: 0.5427 - val_loss: 1.1793 - val_acc: 0.5520\n",
      "Epoch 10/101\n",
      "28709/28709 [==============================] - 51s 2ms/step - loss: 1.1674 - acc: 0.5510 - val_loss: 1.1745 - val_acc: 0.5503\n",
      "Epoch 11/101\n",
      "28709/28709 [==============================] - 51s 2ms/step - loss: 1.1362 - acc: 0.5646 - val_loss: 1.1496 - val_acc: 0.5678\n",
      "Epoch 12/101\n",
      "28709/28709 [==============================] - 51s 2ms/step - loss: 1.1292 - acc: 0.5671 - val_loss: 1.1560 - val_acc: 0.5553\n",
      "Epoch 13/101\n",
      "28709/28709 [==============================] - 51s 2ms/step - loss: 1.1073 - acc: 0.5750 - val_loss: 1.1795 - val_acc: 0.5598\n",
      "Epoch 14/101\n",
      "28709/28709 [==============================] - 51s 2ms/step - loss: 1.0954 - acc: 0.5803 - val_loss: 1.1437 - val_acc: 0.5642\n",
      "Epoch 15/101\n",
      "28709/28709 [==============================] - 51s 2ms/step - loss: 1.0824 - acc: 0.5862 - val_loss: 1.1433 - val_acc: 0.5639\n",
      "Epoch 16/101\n",
      "28709/28709 [==============================] - 51s 2ms/step - loss: 1.0641 - acc: 0.5896 - val_loss: 1.1447 - val_acc: 0.5609\n",
      "Epoch 17/101\n",
      "28709/28709 [==============================] - 51s 2ms/step - loss: 1.0540 - acc: 0.5975 - val_loss: 1.1475 - val_acc: 0.5692\n",
      "Epoch 18/101\n",
      "28709/28709 [==============================] - 51s 2ms/step - loss: 1.0328 - acc: 0.6032 - val_loss: 1.1382 - val_acc: 0.5698\n",
      "Epoch 19/101\n",
      "28709/28709 [==============================] - 51s 2ms/step - loss: 1.0176 - acc: 0.6081 - val_loss: 1.1294 - val_acc: 0.5698\n",
      "Epoch 20/101\n",
      "28709/28709 [==============================] - 51s 2ms/step - loss: 1.0070 - acc: 0.6161 - val_loss: 1.1731 - val_acc: 0.5575\n",
      "Epoch 21/101\n",
      "28709/28709 [==============================] - 51s 2ms/step - loss: 1.0026 - acc: 0.6183 - val_loss: 1.1479 - val_acc: 0.5726\n",
      "Epoch 22/101\n",
      "28709/28709 [==============================] - 51s 2ms/step - loss: 0.9781 - acc: 0.6273 - val_loss: 1.1585 - val_acc: 0.5631\n",
      "Epoch 23/101\n",
      "28709/28709 [==============================] - 51s 2ms/step - loss: 0.9691 - acc: 0.6276 - val_loss: 1.1639 - val_acc: 0.5662\n",
      "Epoch 24/101\n",
      "28709/28709 [==============================] - 51s 2ms/step - loss: 0.9571 - acc: 0.6372 - val_loss: 1.1944 - val_acc: 0.5634\n",
      "Epoch 25/101\n",
      "28709/28709 [==============================] - 51s 2ms/step - loss: 0.9424 - acc: 0.6389 - val_loss: 1.1549 - val_acc: 0.5729\n",
      "Epoch 26/101\n",
      "28709/28709 [==============================] - 51s 2ms/step - loss: 0.9367 - acc: 0.6439 - val_loss: 1.1595 - val_acc: 0.5740\n",
      "Epoch 27/101\n",
      "28709/28709 [==============================] - 51s 2ms/step - loss: 0.9266 - acc: 0.6482 - val_loss: 1.1944 - val_acc: 0.5720\n",
      "Epoch 28/101\n",
      "28709/28709 [==============================] - 51s 2ms/step - loss: 0.9104 - acc: 0.6561 - val_loss: 1.1804 - val_acc: 0.5759\n",
      "Epoch 29/101\n",
      "28709/28709 [==============================] - 51s 2ms/step - loss: 0.8926 - acc: 0.6619 - val_loss: 1.1779 - val_acc: 0.5773\n",
      "Epoch 30/101\n",
      "28709/28709 [==============================] - 51s 2ms/step - loss: 0.8763 - acc: 0.6669 - val_loss: 1.2183 - val_acc: 0.5648\n",
      "Epoch 31/101\n",
      "28709/28709 [==============================] - 51s 2ms/step - loss: 0.8717 - acc: 0.6679 - val_loss: 1.1972 - val_acc: 0.5653\n",
      "Epoch 32/101\n",
      "28709/28709 [==============================] - 51s 2ms/step - loss: 0.8640 - acc: 0.6719 - val_loss: 1.1850 - val_acc: 0.5731\n",
      "Epoch 33/101\n",
      "28709/28709 [==============================] - 51s 2ms/step - loss: 0.8491 - acc: 0.6792 - val_loss: 1.1667 - val_acc: 0.5818\n",
      "Epoch 34/101\n",
      "28709/28709 [==============================] - 51s 2ms/step - loss: 0.8382 - acc: 0.6806 - val_loss: 1.1930 - val_acc: 0.5726\n",
      "Epoch 35/101\n",
      "28709/28709 [==============================] - 51s 2ms/step - loss: 0.8277 - acc: 0.6861 - val_loss: 1.2013 - val_acc: 0.5809\n",
      "Epoch 36/101\n",
      "28709/28709 [==============================] - 51s 2ms/step - loss: 0.8185 - acc: 0.6901 - val_loss: 1.2012 - val_acc: 0.5790\n",
      "Epoch 37/101\n",
      "28709/28709 [==============================] - 51s 2ms/step - loss: 0.7997 - acc: 0.6943 - val_loss: 1.2550 - val_acc: 0.5695\n",
      "Epoch 38/101\n",
      "28709/28709 [==============================] - 51s 2ms/step - loss: 0.8078 - acc: 0.6922 - val_loss: 1.2649 - val_acc: 0.5759\n",
      "Epoch 39/101\n",
      "28709/28709 [==============================] - 51s 2ms/step - loss: 0.7895 - acc: 0.7001 - val_loss: 1.2267 - val_acc: 0.5770\n",
      "Epoch 40/101\n",
      "28709/28709 [==============================] - 51s 2ms/step - loss: 0.7797 - acc: 0.7065 - val_loss: 1.2309 - val_acc: 0.5731\n",
      "Epoch 41/101\n",
      "28709/28709 [==============================] - 51s 2ms/step - loss: 0.7677 - acc: 0.7106 - val_loss: 1.2763 - val_acc: 0.5729\n",
      "Epoch 42/101\n",
      "28709/28709 [==============================] - 51s 2ms/step - loss: 0.7537 - acc: 0.7190 - val_loss: 1.2513 - val_acc: 0.5776\n",
      "Epoch 43/101\n",
      "28709/28709 [==============================] - 51s 2ms/step - loss: 0.7481 - acc: 0.7182 - val_loss: 1.2446 - val_acc: 0.5759\n",
      "Epoch 44/101\n",
      "28709/28709 [==============================] - 51s 2ms/step - loss: 0.7420 - acc: 0.7219 - val_loss: 1.2556 - val_acc: 0.5818\n",
      "Epoch 45/101\n",
      "28709/28709 [==============================] - 51s 2ms/step - loss: 0.7363 - acc: 0.7209 - val_loss: 1.2664 - val_acc: 0.5745\n",
      "Epoch 46/101\n",
      "28709/28709 [==============================] - 51s 2ms/step - loss: 0.7237 - acc: 0.7297 - val_loss: 1.2697 - val_acc: 0.5776\n",
      "Epoch 47/101\n",
      "28709/28709 [==============================] - 51s 2ms/step - loss: 0.7197 - acc: 0.7298 - val_loss: 1.2586 - val_acc: 0.5887\n",
      "Epoch 48/101\n",
      "28709/28709 [==============================] - 51s 2ms/step - loss: 0.7211 - acc: 0.7319 - val_loss: 1.2962 - val_acc: 0.5740\n",
      "Epoch 49/101\n",
      "28709/28709 [==============================] - 51s 2ms/step - loss: 0.6931 - acc: 0.7404 - val_loss: 1.3254 - val_acc: 0.5823\n",
      "Epoch 50/101\n",
      "28709/28709 [==============================] - 51s 2ms/step - loss: 0.6825 - acc: 0.7443 - val_loss: 1.2854 - val_acc: 0.5770\n",
      "Epoch 51/101\n",
      "28709/28709 [==============================] - 51s 2ms/step - loss: 0.6768 - acc: 0.7462 - val_loss: 1.3091 - val_acc: 0.5860\n",
      "Epoch 52/101\n",
      "28709/28709 [==============================] - 51s 2ms/step - loss: 0.6635 - acc: 0.7532 - val_loss: 1.3143 - val_acc: 0.5720\n",
      "Epoch 53/101\n",
      "28709/28709 [==============================] - 51s 2ms/step - loss: 0.6681 - acc: 0.7520 - val_loss: 1.3290 - val_acc: 0.5826\n",
      "Epoch 54/101\n",
      "28709/28709 [==============================] - 51s 2ms/step - loss: 0.6712 - acc: 0.7509 - val_loss: 1.3446 - val_acc: 0.5698\n",
      "Epoch 55/101\n",
      "28709/28709 [==============================] - 51s 2ms/step - loss: 0.6585 - acc: 0.7541 - val_loss: 1.3430 - val_acc: 0.5784\n",
      "Epoch 56/101\n",
      "28709/28709 [==============================] - 51s 2ms/step - loss: 0.6537 - acc: 0.7590 - val_loss: 1.3145 - val_acc: 0.5762\n",
      "Epoch 57/101\n",
      "28709/28709 [==============================] - 51s 2ms/step - loss: 0.6380 - acc: 0.7626 - val_loss: 1.3261 - val_acc: 0.5759\n",
      "Epoch 58/101\n",
      "28709/28709 [==============================] - 51s 2ms/step - loss: 0.6316 - acc: 0.7663 - val_loss: 1.3757 - val_acc: 0.5717\n",
      "Epoch 59/101\n",
      "28709/28709 [==============================] - 51s 2ms/step - loss: 0.6212 - acc: 0.7687 - val_loss: 1.4329 - val_acc: 0.5804\n",
      "Epoch 60/101\n",
      "28709/28709 [==============================] - 51s 2ms/step - loss: 0.6220 - acc: 0.7701 - val_loss: 1.3572 - val_acc: 0.5848\n",
      "Epoch 61/101\n",
      "28709/28709 [==============================] - 51s 2ms/step - loss: 0.6240 - acc: 0.7689 - val_loss: 1.3399 - val_acc: 0.5787\n",
      "Epoch 62/101\n",
      "28709/28709 [==============================] - 51s 2ms/step - loss: 0.6062 - acc: 0.7731 - val_loss: 1.4069 - val_acc: 0.5740\n",
      "Epoch 63/101\n",
      "28709/28709 [==============================] - 51s 2ms/step - loss: 0.6083 - acc: 0.7737 - val_loss: 1.3721 - val_acc: 0.5787\n",
      "Epoch 64/101\n",
      "28709/28709 [==============================] - 51s 2ms/step - loss: 0.5897 - acc: 0.7850 - val_loss: 1.4243 - val_acc: 0.5684\n",
      "Epoch 65/101\n",
      "28709/28709 [==============================] - 51s 2ms/step - loss: 0.5980 - acc: 0.7794 - val_loss: 1.3816 - val_acc: 0.5784\n",
      "Epoch 66/101\n",
      "28709/28709 [==============================] - 51s 2ms/step - loss: 0.5832 - acc: 0.7876 - val_loss: 1.4177 - val_acc: 0.5676\n",
      "Epoch 67/101\n",
      "28709/28709 [==============================] - 51s 2ms/step - loss: 0.5873 - acc: 0.7857 - val_loss: 1.4171 - val_acc: 0.5740\n",
      "Epoch 68/101\n",
      "28709/28709 [==============================] - 51s 2ms/step - loss: 0.5761 - acc: 0.7908 - val_loss: 1.4169 - val_acc: 0.5756\n",
      "Epoch 69/101\n",
      "28709/28709 [==============================] - 52s 2ms/step - loss: 0.5670 - acc: 0.7929 - val_loss: 1.4275 - val_acc: 0.5776\n",
      "Epoch 70/101\n",
      "28709/28709 [==============================] - 51s 2ms/step - loss: 0.5712 - acc: 0.7918 - val_loss: 1.4480 - val_acc: 0.5704\n",
      "Epoch 71/101\n",
      "28709/28709 [==============================] - 51s 2ms/step - loss: 0.5671 - acc: 0.7921 - val_loss: 1.4538 - val_acc: 0.5787\n",
      "Epoch 72/101\n",
      "28709/28709 [==============================] - 51s 2ms/step - loss: 0.5600 - acc: 0.7956 - val_loss: 1.4133 - val_acc: 0.5896\n",
      "Epoch 73/101\n",
      "28709/28709 [==============================] - 51s 2ms/step - loss: 0.5489 - acc: 0.7989 - val_loss: 1.4326 - val_acc: 0.5793\n",
      "Epoch 74/101\n",
      "28709/28709 [==============================] - 51s 2ms/step - loss: 0.5462 - acc: 0.8013 - val_loss: 1.4176 - val_acc: 0.5840\n",
      "Epoch 75/101\n",
      "28709/28709 [==============================] - 51s 2ms/step - loss: 0.5402 - acc: 0.8050 - val_loss: 1.4559 - val_acc: 0.5776\n",
      "Epoch 76/101\n",
      "28709/28709 [==============================] - 51s 2ms/step - loss: 0.5318 - acc: 0.8044 - val_loss: 1.4294 - val_acc: 0.5832\n",
      "Epoch 77/101\n",
      "28709/28709 [==============================] - 51s 2ms/step - loss: 0.5336 - acc: 0.8054 - val_loss: 1.4441 - val_acc: 0.5860\n",
      "Epoch 78/101\n",
      "28709/28709 [==============================] - 51s 2ms/step - loss: 0.5248 - acc: 0.8076 - val_loss: 1.5049 - val_acc: 0.5665\n",
      "Epoch 79/101\n",
      "28709/28709 [==============================] - 51s 2ms/step - loss: 0.5330 - acc: 0.8058 - val_loss: 1.4501 - val_acc: 0.5821\n",
      "Epoch 80/101\n",
      "28709/28709 [==============================] - 51s 2ms/step - loss: 0.5337 - acc: 0.8069 - val_loss: 1.4437 - val_acc: 0.5812\n",
      "Epoch 81/101\n",
      "28709/28709 [==============================] - 51s 2ms/step - loss: 0.5256 - acc: 0.8099 - val_loss: 1.4757 - val_acc: 0.5821\n",
      "Epoch 82/101\n",
      "28709/28709 [==============================] - 51s 2ms/step - loss: 0.5101 - acc: 0.8170 - val_loss: 1.4753 - val_acc: 0.5690\n",
      "Epoch 83/101\n",
      "28709/28709 [==============================] - 51s 2ms/step - loss: 0.5215 - acc: 0.8136 - val_loss: 1.5189 - val_acc: 0.5745\n",
      "Epoch 84/101\n",
      "28709/28709 [==============================] - 51s 2ms/step - loss: 0.4957 - acc: 0.8179 - val_loss: 1.5165 - val_acc: 0.5748\n",
      "Epoch 85/101\n",
      "28709/28709 [==============================] - 51s 2ms/step - loss: 0.4989 - acc: 0.8210 - val_loss: 1.5096 - val_acc: 0.5768\n",
      "Epoch 86/101\n",
      "28709/28709 [==============================] - 51s 2ms/step - loss: 0.5083 - acc: 0.8193 - val_loss: 1.4506 - val_acc: 0.5795\n",
      "Epoch 87/101\n",
      "28709/28709 [==============================] - 51s 2ms/step - loss: 0.4877 - acc: 0.8250 - val_loss: 1.5620 - val_acc: 0.5754\n",
      "Epoch 88/101\n",
      "28709/28709 [==============================] - 50s 2ms/step - loss: 0.5085 - acc: 0.8167 - val_loss: 1.5102 - val_acc: 0.5687\n",
      "Epoch 89/101\n",
      "28709/28709 [==============================] - 50s 2ms/step - loss: 0.4771 - acc: 0.8288 - val_loss: 1.5508 - val_acc: 0.5823\n",
      "Epoch 90/101\n",
      "28709/28709 [==============================] - 50s 2ms/step - loss: 0.4835 - acc: 0.8270 - val_loss: 1.5091 - val_acc: 0.5768\n",
      "Epoch 91/101\n",
      "28709/28709 [==============================] - 50s 2ms/step - loss: 0.4889 - acc: 0.8250 - val_loss: 1.5335 - val_acc: 0.5787\n",
      "Epoch 92/101\n",
      "28709/28709 [==============================] - 50s 2ms/step - loss: 0.4806 - acc: 0.8261 - val_loss: 1.5269 - val_acc: 0.5773\n",
      "Epoch 93/101\n",
      "28709/28709 [==============================] - 50s 2ms/step - loss: 0.4788 - acc: 0.8262 - val_loss: 1.5487 - val_acc: 0.5731\n",
      "Epoch 94/101\n",
      "28709/28709 [==============================] - 50s 2ms/step - loss: 0.4728 - acc: 0.8276 - val_loss: 1.5465 - val_acc: 0.5709\n",
      "Epoch 95/101\n",
      "28709/28709 [==============================] - 50s 2ms/step - loss: 0.4800 - acc: 0.8278 - val_loss: 1.5593 - val_acc: 0.5765\n",
      "Epoch 96/101\n",
      "28709/28709 [==============================] - 50s 2ms/step - loss: 0.4638 - acc: 0.8352 - val_loss: 1.5503 - val_acc: 0.5681\n",
      "Epoch 97/101\n",
      "28709/28709 [==============================] - 50s 2ms/step - loss: 0.4719 - acc: 0.8323 - val_loss: 1.5650 - val_acc: 0.5726\n",
      "Epoch 98/101\n",
      "28709/28709 [==============================] - 50s 2ms/step - loss: 0.4803 - acc: 0.8276 - val_loss: 1.5766 - val_acc: 0.5720\n",
      "Epoch 99/101\n",
      "28709/28709 [==============================] - 50s 2ms/step - loss: 0.4588 - acc: 0.8375 - val_loss: 1.5466 - val_acc: 0.5787\n",
      "Epoch 100/101\n",
      "28709/28709 [==============================] - 50s 2ms/step - loss: 0.4532 - acc: 0.8404 - val_loss: 1.6022 - val_acc: 0.5756\n",
      "Epoch 101/101\n",
      "28709/28709 [==============================] - 50s 2ms/step - loss: 0.4499 - acc: 0.8399 - val_loss: 1.6017 - val_acc: 0.5776\n"
     ]
    },
    {
     "data": {
      "text/plain": [
       "<keras.callbacks.History at 0x1e1dedf9248>"
      ]
     },
     "execution_count": 59,
     "metadata": {},
     "output_type": "execute_result"
    }
   ],
   "source": [
    "model.fit(x_train,y_train,batch_size=batch_size,\n",
    "         epochs = epochs,\n",
    "         verbose=1,\n",
    "         validation_data=(x_test,y_test),\n",
    "         shuffle=True)"
   ]
  },
  {
   "cell_type": "code",
   "execution_count": null,
   "metadata": {},
   "outputs": [],
   "source": [
    "fer_json = model.to_json()\n",
    "with open(\"fer.json\",\"w\") as json_file:\n",
    "    json_file.write(fer_json)\n",
    "model.save_weights(\"fer.h5\")    "
   ]
  }
 ],
 "metadata": {
  "kernelspec": {
   "display_name": "Python 3",
   "language": "python",
   "name": "python3"
  },
  "language_info": {
   "codemirror_mode": {
    "name": "ipython",
    "version": 3
   },
   "file_extension": ".py",
   "mimetype": "text/x-python",
   "name": "python",
   "nbconvert_exporter": "python",
   "pygments_lexer": "ipython3",
   "version": "3.7.3"
  }
 },
 "nbformat": 4,
 "nbformat_minor": 2
}
